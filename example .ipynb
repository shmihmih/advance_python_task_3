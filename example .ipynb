{
 "cells": [
  {
   "cell_type": "markdown",
   "id": "c303e4fb",
   "metadata": {},
   "source": [
    "### Дополнительно было реализовано"
   ]
  },
  {
   "cell_type": "markdown",
   "id": "e627eada",
   "metadata": {},
   "source": [
    "1. Валидация обученной модели \n",
    "2. Возвращение списка уже обученных моделей \n",
    "3. Поднятие сервера с функционалом апи на домене neokind.pro"
   ]
  },
  {
   "cell_type": "markdown",
   "id": "b30d9a05",
   "metadata": {},
   "source": [
    "### Описание api"
   ]
  },
  {
   "cell_type": "markdown",
   "id": "6001b069",
   "metadata": {},
   "source": [
    "api состоит из 5 методов каждый из которых опишем ниже, каждый из методов возвращают словарь"
   ]
  },
  {
   "cell_type": "markdown",
   "id": "0aca2518",
   "metadata": {},
   "source": [
    "#### получение списка доступных моделей"
   ]
  },
  {
   "cell_type": "markdown",
   "id": "3a62282f",
   "metadata": {},
   "source": [
    "**name:** get_model_list<br>\n",
    "**input:**\n",
    "empty<br>\n",
    "**output:**\n",
    "словарь с моделями<br>\n",
    "**example:**\n",
    "{'model_list': ['linear', 'randomforest', 'boosting']}<br>"
   ]
  },
  {
   "cell_type": "markdown",
   "id": "472ad057",
   "metadata": {},
   "source": [
    "#### получение списка обученных моделей"
   ]
  },
  {
   "cell_type": "markdown",
   "id": "a59edd24",
   "metadata": {},
   "source": [
    "\n",
    "**name:** get_pretrained_model_list<br>\n",
    "**input:**\n",
    "empty<br>\n",
    "**output:**\n",
    "словарь с обученными моделями<br>\n",
    "**example:**\n",
    "{'pretrained_model_list': []}<br>"
   ]
  },
  {
   "cell_type": "markdown",
   "id": "5e4b5fb5",
   "metadata": {},
   "source": [
    "#### обучение модели"
   ]
  },
  {
   "cell_type": "markdown",
   "id": "7e6bbd36",
   "metadata": {},
   "source": [
    "**name:** train_model<br>\n",
    "**input:**\n",
    "X_train(type list(list)) - признаки для обучения<br>\n",
    "y_train(type list) - таргет для обучения<br>\n",
    "x_test(type list(list)) - признаки для теста<br>\n",
    "y_test(type list) - таргет для теста<br>\n",
    "model_name(type string) - имя модели <br>\n",
    "params(type dict) - дополнительные параметры для обучения модели<br>\n",
    "**output:**\n",
    "качество обученной модели<br>\n",
    "**example:**\n",
    "{'train_model_score': '0.76'}<br>\n"
   ]
  },
  {
   "cell_type": "markdown",
   "id": "d84c1f4a",
   "metadata": {},
   "source": [
    "#### предсказание модели"
   ]
  },
  {
   "cell_type": "markdown",
   "id": "f60cd20f",
   "metadata": {},
   "source": [
    "**name:** predict_model<br>\n",
    "**input:**\n",
    "x_test(type list(list)) - признаки для теста<br>\n",
    "model_name(type string) - имя модели <br>\n",
    "**output:**\n",
    "предсказания модели на тесте<br>\n",
    "**example:**\n",
    "{'prediction': [0, 0, 1, 2, 0, 0, 2, 1, 3, 0, 0, 1, 0, 2, 1, 1, 3, 0, 0, 0, 0, 3, 3, 0, 1]}<br>"
   ]
  },
  {
   "cell_type": "markdown",
   "id": "0b0f5b8e",
   "metadata": {},
   "source": [
    "#### удаление модели"
   ]
  },
  {
   "cell_type": "markdown",
   "id": "7fecfa20",
   "metadata": {},
   "source": [
    "**name:** del_model<br>\n",
    "**input:**\n",
    "model_name(type string) - имя модели <br>\n",
    "**output:**\n",
    "удаление модели<br>\n",
    "**example:**\n",
    "{'del model': 'linear model has deleted'}<br>"
   ]
  },
  {
   "cell_type": "code",
   "execution_count": 81,
   "id": "d7cd9888",
   "metadata": {},
   "outputs": [],
   "source": [
    "from sklearn.datasets import make_classification\n",
    "from sklearn.model_selection import train_test_split\n",
    "import requests"
   ]
  },
  {
   "cell_type": "code",
   "execution_count": 82,
   "id": "a309ab9e",
   "metadata": {},
   "outputs": [
    {
     "name": "stdout",
     "output_type": "stream",
     "text": [
      "The autoreload extension is already loaded. To reload it, use:\n",
      "  %reload_ext autoreload\n"
     ]
    }
   ],
   "source": [
    "%load_ext autoreload\n",
    "%autoreload 1\n",
    "from test import *"
   ]
  },
  {
   "cell_type": "code",
   "execution_count": 83,
   "id": "d7780591",
   "metadata": {},
   "outputs": [],
   "source": [
    "p_train, p_test, p_del = create_params_for_api(*gen_dataset())"
   ]
  },
  {
   "cell_type": "code",
   "execution_count": 84,
   "id": "45b18899",
   "metadata": {},
   "outputs": [
    {
     "name": "stdout",
     "output_type": "stream",
     "text": [
      "{'model_list': ['linear', 'randomforest', 'boosting']}\n",
      "{'pretrained_model_list': []}\n",
      "{'train_model_score': '0.4'}\n",
      "{'train_model_score': '0.4'}\n",
      "{'prediction': [1, 1, 1, 3, 0, 0, 0, 1, 0, 0, 0, 1, 0, 1, 2, 0, 1, 1, 0, 1, 1, 2, 3, 1, 3]}\n",
      "{'train_model_score': '0.4'}\n",
      "{'del model': 'linear model has deleted'}\n",
      "{'del model': 'input incorrect model_name'}\n"
     ]
    }
   ],
   "source": [
    "test_api(p_train, p_train, p_del)"
   ]
  },
  {
   "cell_type": "code",
   "execution_count": null,
   "id": "58f5291c",
   "metadata": {},
   "outputs": [],
   "source": []
  }
 ],
 "metadata": {
  "kernelspec": {
   "display_name": "Python 3 (ipykernel)",
   "language": "python",
   "name": "python3"
  },
  "language_info": {
   "codemirror_mode": {
    "name": "ipython",
    "version": 3
   },
   "file_extension": ".py",
   "mimetype": "text/x-python",
   "name": "python",
   "nbconvert_exporter": "python",
   "pygments_lexer": "ipython3",
   "version": "3.9.1"
  }
 },
 "nbformat": 4,
 "nbformat_minor": 5
}
